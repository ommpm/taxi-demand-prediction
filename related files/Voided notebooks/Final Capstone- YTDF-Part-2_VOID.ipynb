{
 "cells": [
  {
   "cell_type": "code",
   "execution_count": 1,
   "metadata": {},
   "outputs": [],
   "source": [
    "import pandas as pd\n",
    "import seaborn as sns\n",
    "import matplotlib.pyplot as plt\n",
    "import numpy as np\n",
    "import dask.dataframe as dd\n",
    "import pickle\n",
    "from scipy import stats\n",
    "from dask.diagnostics import ProgressBar\n",
    "from tabulate import tabulate\n",
    "import dask.array as da\n",
    "from dask.distributed import Client,progress\n",
    "import calendar\n",
    "import time\n",
    "# for faster processing\n",
    "import dask.multiprocessing\n",
    "#dask.config.set(get=dask.multiprocessing.get)  # set processes as default"
   ]
  },
  {
   "cell_type": "code",
   "execution_count": 2,
   "metadata": {},
   "outputs": [
    {
     "data": {
      "text/plain": [
       "<dask.config.set at 0x1f1a44c1828>"
      ]
     },
     "execution_count": 2,
     "metadata": {},
     "output_type": "execute_result"
    }
   ],
   "source": [
    "dask.config.set(scheduler='multiprocessing')"
   ]
  },
  {
   "cell_type": "code",
   "execution_count": 3,
   "metadata": {},
   "outputs": [
    {
     "name": "stderr",
     "output_type": "stream",
     "text": [
      "C:\\Users\\Tinsae\\Anaconda3\\lib\\site-packages\\distributed\\bokeh\\core.py:57: UserWarning: \n",
      "Port 8787 is already in use. \n",
      "Perhaps you already have a cluster running?\n",
      "Hosting the diagnostics dashboard on a random port instead.\n",
      "  warnings.warn('\\n' + msg)\n"
     ]
    }
   ],
   "source": [
    "# # from dask.distributed import Client, progress\n",
    "# # c = Client(processes=False)\n",
    "# # c\n",
    "c = Client()  # create processes and set as default"
   ]
  }
 ],
 "metadata": {
  "kernelspec": {
   "display_name": "Python 3",
   "language": "python",
   "name": "python3"
  },
  "language_info": {
   "codemirror_mode": {
    "name": "ipython",
    "version": 3
   },
   "file_extension": ".py",
   "mimetype": "text/x-python",
   "name": "python",
   "nbconvert_exporter": "python",
   "pygments_lexer": "ipython3",
   "version": "3.7.1"
  }
 },
 "nbformat": 4,
 "nbformat_minor": 2
}
