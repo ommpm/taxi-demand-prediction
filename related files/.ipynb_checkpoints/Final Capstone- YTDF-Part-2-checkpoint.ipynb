{
 "cells": [
  {
   "cell_type": "code",
   "execution_count": 1,
   "metadata": {},
   "outputs": [],
   "source": [
    "import pandas as pd\n",
    "import seaborn as sns\n",
    "import matplotlib.pyplot as plt\n",
    "import numpy as np\n",
    "import dask.dataframe as dd\n",
    "import pickle\n",
    "from scipy import stats\n",
    "from dask.diagnostics import ProgressBar\n",
    "from tabulate import tabulate\n",
    "import dask.array as da\n",
    "from dask.distributed import Client,progress\n",
    "import calendar\n",
    "import time\n",
    "# for faster processing\n",
    "import dask.multiprocessing\n",
    "#dask.config.set(get=dask.multiprocessing.get)  # set processes as default"
   ]
  },
  {
   "cell_type": "code",
   "execution_count": 2,
   "metadata": {},
   "outputs": [
    {
     "data": {
      "text/plain": [
       "<dask.config.set at 0x1f1a44c1828>"
      ]
     },
     "execution_count": 2,
     "metadata": {},
     "output_type": "execute_result"
    }
   ],
   "source": [
    "dask.config.set(scheduler='multiprocessing')"
   ]
  },
  {
   "cell_type": "code",
   "execution_count": 3,
   "metadata": {},
   "outputs": [
    {
     "name": "stderr",
     "output_type": "stream",
     "text": [
      "C:\\Users\\Tinsae\\Anaconda3\\lib\\site-packages\\distributed\\bokeh\\core.py:57: UserWarning: \n",
      "Port 8787 is already in use. \n",
      "Perhaps you already have a cluster running?\n",
      "Hosting the diagnostics dashboard on a random port instead.\n",
      "  warnings.warn('\\n' + msg)\n"
     ]
    }
   ],
   "source": [
    "# # from dask.distributed import Client, progress\n",
    "# # c = Client(processes=False)\n",
    "# # c\n",
    "c = Client()  # create processes and set as default"
   ]
  },
  {
   "cell_type": "markdown",
   "metadata": {},
   "source": [
    "### Load Parquet Files"
   ]
  },
  {
   "cell_type": "code",
   "execution_count": 4,
   "metadata": {},
   "outputs": [],
   "source": [
    "scolumns = ['tpep_pickup_datetime',\n",
    "            'passenger_count', \n",
    "            'trip_distance',\n",
    "            'PULocationID',\n",
    "            'fare_amount',\n",
    "           'duration',\n",
    "           'speed']\n",
    "\n",
    "\n",
    "y2017_ddf_final = dd.read_parquet(\"taxi_data/y2017_ddf_final.parquet\", columns=scolumns)"
   ]
  },
  {
   "cell_type": "code",
   "execution_count": 5,
   "metadata": {
    "scrolled": true
   },
   "outputs": [
    {
     "data": {
      "text/html": [
       "<div>\n",
       "<style scoped>\n",
       "    .dataframe tbody tr th:only-of-type {\n",
       "        vertical-align: middle;\n",
       "    }\n",
       "\n",
       "    .dataframe tbody tr th {\n",
       "        vertical-align: top;\n",
       "    }\n",
       "\n",
       "    .dataframe thead th {\n",
       "        text-align: right;\n",
       "    }\n",
       "</style>\n",
       "<table border=\"1\" class=\"dataframe\">\n",
       "  <thead>\n",
       "    <tr style=\"text-align: right;\">\n",
       "      <th></th>\n",
       "      <th>tpep_pickup_datetime</th>\n",
       "      <th>passenger_count</th>\n",
       "      <th>trip_distance</th>\n",
       "      <th>PULocationID</th>\n",
       "      <th>fare_amount</th>\n",
       "      <th>duration</th>\n",
       "      <th>speed</th>\n",
       "    </tr>\n",
       "  </thead>\n",
       "  <tbody>\n",
       "    <tr>\n",
       "      <th>0</th>\n",
       "      <td>2017-05-30 15:34:55</td>\n",
       "      <td>1.0</td>\n",
       "      <td>1.30</td>\n",
       "      <td>68.0</td>\n",
       "      <td>9.0</td>\n",
       "      <td>773.0</td>\n",
       "      <td>0.001682</td>\n",
       "    </tr>\n",
       "    <tr>\n",
       "      <th>1</th>\n",
       "      <td>2017-05-30 15:34:55</td>\n",
       "      <td>1.0</td>\n",
       "      <td>2.20</td>\n",
       "      <td>186.0</td>\n",
       "      <td>18.0</td>\n",
       "      <td>1790.0</td>\n",
       "      <td>0.001229</td>\n",
       "    </tr>\n",
       "    <tr>\n",
       "      <th>2</th>\n",
       "      <td>2017-05-30 15:34:55</td>\n",
       "      <td>1.0</td>\n",
       "      <td>1.13</td>\n",
       "      <td>231.0</td>\n",
       "      <td>9.0</td>\n",
       "      <td>741.0</td>\n",
       "      <td>0.001525</td>\n",
       "    </tr>\n",
       "    <tr>\n",
       "      <th>3</th>\n",
       "      <td>2017-05-30 15:34:55</td>\n",
       "      <td>5.0</td>\n",
       "      <td>1.08</td>\n",
       "      <td>161.0</td>\n",
       "      <td>7.0</td>\n",
       "      <td>525.0</td>\n",
       "      <td>0.002057</td>\n",
       "    </tr>\n",
       "    <tr>\n",
       "      <th>4</th>\n",
       "      <td>2017-05-30 15:34:55</td>\n",
       "      <td>1.0</td>\n",
       "      <td>1.96</td>\n",
       "      <td>239.0</td>\n",
       "      <td>14.0</td>\n",
       "      <td>1244.0</td>\n",
       "      <td>0.001576</td>\n",
       "    </tr>\n",
       "  </tbody>\n",
       "</table>\n",
       "</div>"
      ],
      "text/plain": [
       "  tpep_pickup_datetime  passenger_count  trip_distance  PULocationID  \\\n",
       "0  2017-05-30 15:34:55              1.0           1.30          68.0   \n",
       "1  2017-05-30 15:34:55              1.0           2.20         186.0   \n",
       "2  2017-05-30 15:34:55              1.0           1.13         231.0   \n",
       "3  2017-05-30 15:34:55              5.0           1.08         161.0   \n",
       "4  2017-05-30 15:34:55              1.0           1.96         239.0   \n",
       "\n",
       "   fare_amount  duration     speed  \n",
       "0          9.0     773.0  0.001682  \n",
       "1         18.0    1790.0  0.001229  \n",
       "2          9.0     741.0  0.001525  \n",
       "3          7.0     525.0  0.002057  \n",
       "4         14.0    1244.0  0.001576  "
      ]
     },
     "execution_count": 5,
     "metadata": {},
     "output_type": "execute_result"
    }
   ],
   "source": [
    "y2017_ddf_final.head()"
   ]
  },
  {
   "cell_type": "markdown",
   "metadata": {},
   "source": [
    "Set the DataFrame index (row labels) using an existing column\n",
    "\n",
    "This realigns the dataset to be sorted by a new column. This can have a significant impact on performance, because joins, groupbys, lookups, etc. are all much faster on that column. "
   ]
  },
  {
   "cell_type": "code",
   "execution_count": 6,
   "metadata": {},
   "outputs": [],
   "source": [
    "# set index\n",
    "y2017_ddf_final = y2017_ddf_final.set_index(\"tpep_pickup_datetime\", drop=True)"
   ]
  },
  {
   "cell_type": "code",
   "execution_count": 7,
   "metadata": {},
   "outputs": [
    {
     "data": {
      "text/html": [
       "<div>\n",
       "<style scoped>\n",
       "    .dataframe tbody tr th:only-of-type {\n",
       "        vertical-align: middle;\n",
       "    }\n",
       "\n",
       "    .dataframe tbody tr th {\n",
       "        vertical-align: top;\n",
       "    }\n",
       "\n",
       "    .dataframe thead th {\n",
       "        text-align: right;\n",
       "    }\n",
       "</style>\n",
       "<table border=\"1\" class=\"dataframe\">\n",
       "  <thead>\n",
       "    <tr style=\"text-align: right;\">\n",
       "      <th></th>\n",
       "      <th>passenger_count</th>\n",
       "      <th>trip_distance</th>\n",
       "      <th>PULocationID</th>\n",
       "      <th>fare_amount</th>\n",
       "      <th>duration</th>\n",
       "      <th>speed</th>\n",
       "    </tr>\n",
       "    <tr>\n",
       "      <th>tpep_pickup_datetime</th>\n",
       "      <th></th>\n",
       "      <th></th>\n",
       "      <th></th>\n",
       "      <th></th>\n",
       "      <th></th>\n",
       "      <th></th>\n",
       "    </tr>\n",
       "  </thead>\n",
       "  <tbody>\n",
       "    <tr>\n",
       "      <th>2017-01-01 00:00:02</th>\n",
       "      <td>1.0</td>\n",
       "      <td>0.50</td>\n",
       "      <td>48.0</td>\n",
       "      <td>4.0</td>\n",
       "      <td>228.0</td>\n",
       "      <td>0.002193</td>\n",
       "    </tr>\n",
       "    <tr>\n",
       "      <th>2017-01-01 00:00:02</th>\n",
       "      <td>4.0</td>\n",
       "      <td>7.75</td>\n",
       "      <td>186.0</td>\n",
       "      <td>22.0</td>\n",
       "      <td>2360.0</td>\n",
       "      <td>0.003284</td>\n",
       "    </tr>\n",
       "    <tr>\n",
       "      <th>2017-01-01 00:00:03</th>\n",
       "      <td>1.0</td>\n",
       "      <td>0.80</td>\n",
       "      <td>162.0</td>\n",
       "      <td>6.0</td>\n",
       "      <td>415.0</td>\n",
       "      <td>0.001928</td>\n",
       "    </tr>\n",
       "    <tr>\n",
       "      <th>2017-01-01 00:00:05</th>\n",
       "      <td>2.0</td>\n",
       "      <td>0.90</td>\n",
       "      <td>48.0</td>\n",
       "      <td>7.0</td>\n",
       "      <td>508.0</td>\n",
       "      <td>0.001772</td>\n",
       "    </tr>\n",
       "    <tr>\n",
       "      <th>2017-01-01 00:00:05</th>\n",
       "      <td>5.0</td>\n",
       "      <td>1.76</td>\n",
       "      <td>140.0</td>\n",
       "      <td>7.0</td>\n",
       "      <td>299.0</td>\n",
       "      <td>0.005886</td>\n",
       "    </tr>\n",
       "  </tbody>\n",
       "</table>\n",
       "</div>"
      ],
      "text/plain": [
       "                      passenger_count  trip_distance  PULocationID  \\\n",
       "tpep_pickup_datetime                                                 \n",
       "2017-01-01 00:00:02               1.0           0.50          48.0   \n",
       "2017-01-01 00:00:02               4.0           7.75         186.0   \n",
       "2017-01-01 00:00:03               1.0           0.80         162.0   \n",
       "2017-01-01 00:00:05               2.0           0.90          48.0   \n",
       "2017-01-01 00:00:05               5.0           1.76         140.0   \n",
       "\n",
       "                      fare_amount  duration     speed  \n",
       "tpep_pickup_datetime                                   \n",
       "2017-01-01 00:00:02           4.0     228.0  0.002193  \n",
       "2017-01-01 00:00:02          22.0    2360.0  0.003284  \n",
       "2017-01-01 00:00:03           6.0     415.0  0.001928  \n",
       "2017-01-01 00:00:05           7.0     508.0  0.001772  \n",
       "2017-01-01 00:00:05           7.0     299.0  0.005886  "
      ]
     },
     "execution_count": 7,
     "metadata": {},
     "output_type": "execute_result"
    }
   ],
   "source": [
    "y2017_ddf_final.head()"
   ]
  },
  {
   "cell_type": "code",
   "execution_count": 8,
   "metadata": {},
   "outputs": [
    {
     "data": {
      "text/plain": [
       "passenger_count    0\n",
       "trip_distance      0\n",
       "PULocationID       0\n",
       "fare_amount        0\n",
       "duration           0\n",
       "speed              0\n",
       "dtype: int64"
      ]
     },
     "execution_count": 8,
     "metadata": {},
     "output_type": "execute_result"
    }
   ],
   "source": [
    "# check nulls\n",
    "y2017_ddf_final.isnull().sum().compute()"
   ]
  },
  {
   "cell_type": "code",
   "execution_count": 9,
   "metadata": {},
   "outputs": [
    {
     "data": {
      "text/plain": [
       "(Timestamp('2017-01-01 00:00:02'),\n",
       " Timestamp('2017-01-03 15:41:37'),\n",
       " Timestamp('2017-01-05 21:28:22.311316736'),\n",
       " Timestamp('2017-01-07 22:59:35'),\n",
       " Timestamp('2017-01-10 11:54:42.066666752'))"
      ]
     },
     "execution_count": 9,
     "metadata": {},
     "output_type": "execute_result"
    }
   ],
   "source": [
    "# the data is divided by time stamps\n",
    "y2017_ddf_final.divisions[0:5]"
   ]
  },
  {
   "cell_type": "code",
   "execution_count": 10,
   "metadata": {},
   "outputs": [
    {
     "data": {
      "text/plain": [
       "Dask Index Structure:\n",
       "npartitions=1\n",
       "2017-01-03 15:41:37.000000000    datetime64[ns]\n",
       "2017-01-05 21:28:22.311316736               ...\n",
       "Name: tpep_pickup_datetime, dtype: datetime64[ns]\n",
       "Dask Name: get-partition, 6400 tasks"
      ]
     },
     "execution_count": 10,
     "metadata": {},
     "output_type": "execute_result"
    }
   ],
   "source": [
    "y2017_ddf_final.get_partition(1).index"
   ]
  },
  {
   "cell_type": "code",
   "execution_count": 11,
   "metadata": {},
   "outputs": [
    {
     "data": {
      "text/plain": [
       "Dask Index Structure:\n",
       "npartitions=1\n",
       "2017-01-03 15:41:37.000000000    datetime64[ns]\n",
       "2017-01-05 21:28:22.311316736               ...\n",
       "Name: tpep_pickup_datetime, dtype: datetime64[ns]\n",
       "Dask Name: get-partition, 6400 tasks"
      ]
     },
     "execution_count": 11,
     "metadata": {},
     "output_type": "execute_result"
    }
   ],
   "source": [
    "y2017_ddf_final.get_partition(1).index"
   ]
  },
  {
   "cell_type": "code",
   "execution_count": 12,
   "metadata": {},
   "outputs": [
    {
     "data": {
      "text/plain": [
       "105886773"
      ]
     },
     "execution_count": 12,
     "metadata": {},
     "output_type": "execute_result"
    }
   ],
   "source": [
    "len(y2017_ddf_final)"
   ]
  },
  {
   "cell_type": "code",
   "execution_count": 13,
   "metadata": {},
   "outputs": [
    {
     "data": {
      "text/plain": [
       "DatetimeIndex(['2017-01-03 15:41:37', '2017-01-03 15:41:37',\n",
       "               '2017-01-03 15:41:37', '2017-01-03 15:41:37',\n",
       "               '2017-01-03 15:41:37', '2017-01-03 15:41:37',\n",
       "               '2017-01-03 15:41:37', '2017-01-03 15:41:37',\n",
       "               '2017-01-03 15:41:38', '2017-01-03 15:41:38',\n",
       "               ...\n",
       "               '2017-01-05 21:28:21', '2017-01-05 21:28:21',\n",
       "               '2017-01-05 21:28:21', '2017-01-05 21:28:22',\n",
       "               '2017-01-05 21:28:22', '2017-01-05 21:28:22',\n",
       "               '2017-01-05 21:28:22', '2017-01-05 21:28:22',\n",
       "               '2017-01-05 21:28:22', '2017-01-05 21:28:22'],\n",
       "              dtype='datetime64[ns]', name='tpep_pickup_datetime', length=644749, freq=None)"
      ]
     },
     "execution_count": 13,
     "metadata": {},
     "output_type": "execute_result"
    }
   ],
   "source": [
    "y2017_ddf_final.get_partition(1).index.compute()"
   ]
  },
  {
   "cell_type": "markdown",
   "metadata": {},
   "source": [
    "### Group, Aggregate, Resample Data"
   ]
  },
  {
   "cell_type": "markdown",
   "metadata": {},
   "source": [
    "The dask dataframe is grouped by location and using pandas to do the operations within each group."
   ]
  },
  {
   "cell_type": "code",
   "execution_count": 14,
   "metadata": {},
   "outputs": [
    {
     "name": "stderr",
     "output_type": "stream",
     "text": [
      "/home/tigial3535/anaconda3/lib/python3.7/site-packages/ipykernel_launcher.py:11: UserWarning: `meta` is not specified, inferred from partial data. Please provide `meta` if the result is unexpected.\n",
      "  Before: .apply(func)\n",
      "  After:  .apply(func, meta={'x': 'f8', 'y': 'f8'}) for dataframe result\n",
      "  or:     .apply(func, meta=('x', 'f8'))            for series result\n",
      "  # This is added back by InteractiveShellApp.init_path()\n"
     ]
    }
   ],
   "source": [
    "meta={'PULocationID':'float64',\n",
    "    'passenger_count': 'float64', \n",
    "      'trip_distance': 'float64',\n",
    "      'fare_amount':'float64',\n",
    "      'duration':'float64', \n",
    "      'speed':'float64'\n",
    "     }\n",
    "def per_group(blk):\n",
    "    return blk.resample('H').mean()\n",
    "\n",
    "y2017_as_pd_resampled = y2017_ddf_final.groupby(\"PULocationID\").apply(per_group).compute()"
   ]
  },
  {
   "cell_type": "code",
   "execution_count": 15,
   "metadata": {},
   "outputs": [
    {
     "data": {
      "text/html": [
       "<div>\n",
       "<style scoped>\n",
       "    .dataframe tbody tr th:only-of-type {\n",
       "        vertical-align: middle;\n",
       "    }\n",
       "\n",
       "    .dataframe tbody tr th {\n",
       "        vertical-align: top;\n",
       "    }\n",
       "\n",
       "    .dataframe thead th {\n",
       "        text-align: right;\n",
       "    }\n",
       "</style>\n",
       "<table border=\"1\" class=\"dataframe\">\n",
       "  <thead>\n",
       "    <tr style=\"text-align: right;\">\n",
       "      <th></th>\n",
       "      <th></th>\n",
       "      <th>passenger_count</th>\n",
       "      <th>trip_distance</th>\n",
       "      <th>PULocationID</th>\n",
       "      <th>fare_amount</th>\n",
       "      <th>duration</th>\n",
       "      <th>speed</th>\n",
       "    </tr>\n",
       "    <tr>\n",
       "      <th>PULocationID</th>\n",
       "      <th>tpep_pickup_datetime</th>\n",
       "      <th></th>\n",
       "      <th></th>\n",
       "      <th></th>\n",
       "      <th></th>\n",
       "      <th></th>\n",
       "      <th></th>\n",
       "    </tr>\n",
       "  </thead>\n",
       "  <tbody>\n",
       "    <tr>\n",
       "      <th rowspan=\"5\" valign=\"top\">87.0</th>\n",
       "      <th>2017-01-01 00:00:00</th>\n",
       "      <td>1.567568</td>\n",
       "      <td>4.133851</td>\n",
       "      <td>87.0</td>\n",
       "      <td>15.736486</td>\n",
       "      <td>976.445946</td>\n",
       "      <td>0.004297</td>\n",
       "    </tr>\n",
       "    <tr>\n",
       "      <th>2017-01-01 01:00:00</th>\n",
       "      <td>1.609053</td>\n",
       "      <td>4.746872</td>\n",
       "      <td>87.0</td>\n",
       "      <td>17.598765</td>\n",
       "      <td>1095.666667</td>\n",
       "      <td>0.004307</td>\n",
       "    </tr>\n",
       "    <tr>\n",
       "      <th>2017-01-01 02:00:00</th>\n",
       "      <td>1.680982</td>\n",
       "      <td>4.488344</td>\n",
       "      <td>87.0</td>\n",
       "      <td>16.588957</td>\n",
       "      <td>1006.503067</td>\n",
       "      <td>0.019612</td>\n",
       "    </tr>\n",
       "    <tr>\n",
       "      <th>2017-01-01 03:00:00</th>\n",
       "      <td>1.674603</td>\n",
       "      <td>4.507937</td>\n",
       "      <td>87.0</td>\n",
       "      <td>15.821429</td>\n",
       "      <td>843.539683</td>\n",
       "      <td>0.005046</td>\n",
       "    </tr>\n",
       "    <tr>\n",
       "      <th>2017-01-01 04:00:00</th>\n",
       "      <td>1.695652</td>\n",
       "      <td>5.572174</td>\n",
       "      <td>87.0</td>\n",
       "      <td>18.913043</td>\n",
       "      <td>933.231884</td>\n",
       "      <td>0.007549</td>\n",
       "    </tr>\n",
       "  </tbody>\n",
       "</table>\n",
       "</div>"
      ],
      "text/plain": [
       "                                   passenger_count  trip_distance  \\\n",
       "PULocationID tpep_pickup_datetime                                   \n",
       "87.0         2017-01-01 00:00:00          1.567568       4.133851   \n",
       "             2017-01-01 01:00:00          1.609053       4.746872   \n",
       "             2017-01-01 02:00:00          1.680982       4.488344   \n",
       "             2017-01-01 03:00:00          1.674603       4.507937   \n",
       "             2017-01-01 04:00:00          1.695652       5.572174   \n",
       "\n",
       "                                   PULocationID  fare_amount     duration  \\\n",
       "PULocationID tpep_pickup_datetime                                           \n",
       "87.0         2017-01-01 00:00:00           87.0    15.736486   976.445946   \n",
       "             2017-01-01 01:00:00           87.0    17.598765  1095.666667   \n",
       "             2017-01-01 02:00:00           87.0    16.588957  1006.503067   \n",
       "             2017-01-01 03:00:00           87.0    15.821429   843.539683   \n",
       "             2017-01-01 04:00:00           87.0    18.913043   933.231884   \n",
       "\n",
       "                                      speed  \n",
       "PULocationID tpep_pickup_datetime            \n",
       "87.0         2017-01-01 00:00:00   0.004297  \n",
       "             2017-01-01 01:00:00   0.004307  \n",
       "             2017-01-01 02:00:00   0.019612  \n",
       "             2017-01-01 03:00:00   0.005046  \n",
       "             2017-01-01 04:00:00   0.007549  "
      ]
     },
     "execution_count": 15,
     "metadata": {},
     "output_type": "execute_result"
    }
   ],
   "source": [
    "y2017_as_pd_resampled.head()"
   ]
  },
  {
   "cell_type": "code",
   "execution_count": 18,
   "metadata": {},
   "outputs": [],
   "source": [
    "y2017_as_pd_resampled = y2017_as_pd_resampled.drop(\"PULocationID\", axis=1)"
   ]
  },
  {
   "cell_type": "code",
   "execution_count": 21,
   "metadata": {},
   "outputs": [],
   "source": [
    "#conda install python-snappy\n",
    "y2017_as_pd_resampled.to_parquet(\"taxi_data/y2017_as_pd_resampled.parquet\", compression=\"GZIP\")\n",
    "y2017_as_pd_resampled.to_csv(\"taxi_data/y2017_as_pd_resampled.csv\")"
   ]
  },
  {
   "cell_type": "code",
   "execution_count": 29,
   "metadata": {},
   "outputs": [],
   "source": [
    "y2017_as_pd_resampled = pd.read_csv(\"taxi_data/y2017_as_pd_resampled.csv\", index_col=1)"
   ]
  },
  {
   "cell_type": "code",
   "execution_count": 30,
   "metadata": {},
   "outputs": [
    {
     "data": {
      "text/html": [
       "<div>\n",
       "<style scoped>\n",
       "    .dataframe tbody tr th:only-of-type {\n",
       "        vertical-align: middle;\n",
       "    }\n",
       "\n",
       "    .dataframe tbody tr th {\n",
       "        vertical-align: top;\n",
       "    }\n",
       "\n",
       "    .dataframe thead th {\n",
       "        text-align: right;\n",
       "    }\n",
       "</style>\n",
       "<table border=\"1\" class=\"dataframe\">\n",
       "  <thead>\n",
       "    <tr style=\"text-align: right;\">\n",
       "      <th></th>\n",
       "      <th>PULocationID</th>\n",
       "      <th>passenger_count</th>\n",
       "      <th>trip_distance</th>\n",
       "      <th>fare_amount</th>\n",
       "      <th>duration</th>\n",
       "      <th>speed</th>\n",
       "    </tr>\n",
       "    <tr>\n",
       "      <th>tpep_pickup_datetime</th>\n",
       "      <th></th>\n",
       "      <th></th>\n",
       "      <th></th>\n",
       "      <th></th>\n",
       "      <th></th>\n",
       "      <th></th>\n",
       "    </tr>\n",
       "  </thead>\n",
       "  <tbody>\n",
       "    <tr>\n",
       "      <th>2017-01-01 00:00:00</th>\n",
       "      <td>87.0</td>\n",
       "      <td>1.567568</td>\n",
       "      <td>4.133851</td>\n",
       "      <td>15.736486</td>\n",
       "      <td>976.445946</td>\n",
       "      <td>0.004297</td>\n",
       "    </tr>\n",
       "    <tr>\n",
       "      <th>2017-01-01 01:00:00</th>\n",
       "      <td>87.0</td>\n",
       "      <td>1.609053</td>\n",
       "      <td>4.746872</td>\n",
       "      <td>17.598765</td>\n",
       "      <td>1095.666667</td>\n",
       "      <td>0.004307</td>\n",
       "    </tr>\n",
       "    <tr>\n",
       "      <th>2017-01-01 02:00:00</th>\n",
       "      <td>87.0</td>\n",
       "      <td>1.680982</td>\n",
       "      <td>4.488344</td>\n",
       "      <td>16.588957</td>\n",
       "      <td>1006.503067</td>\n",
       "      <td>0.019612</td>\n",
       "    </tr>\n",
       "    <tr>\n",
       "      <th>2017-01-01 03:00:00</th>\n",
       "      <td>87.0</td>\n",
       "      <td>1.674603</td>\n",
       "      <td>4.507937</td>\n",
       "      <td>15.821429</td>\n",
       "      <td>843.539683</td>\n",
       "      <td>0.005046</td>\n",
       "    </tr>\n",
       "    <tr>\n",
       "      <th>2017-01-01 04:00:00</th>\n",
       "      <td>87.0</td>\n",
       "      <td>1.695652</td>\n",
       "      <td>5.572174</td>\n",
       "      <td>18.913043</td>\n",
       "      <td>933.231884</td>\n",
       "      <td>0.007549</td>\n",
       "    </tr>\n",
       "  </tbody>\n",
       "</table>\n",
       "</div>"
      ],
      "text/plain": [
       "                      PULocationID  passenger_count  trip_distance  \\\n",
       "tpep_pickup_datetime                                                 \n",
       "2017-01-01 00:00:00           87.0         1.567568       4.133851   \n",
       "2017-01-01 01:00:00           87.0         1.609053       4.746872   \n",
       "2017-01-01 02:00:00           87.0         1.680982       4.488344   \n",
       "2017-01-01 03:00:00           87.0         1.674603       4.507937   \n",
       "2017-01-01 04:00:00           87.0         1.695652       5.572174   \n",
       "\n",
       "                      fare_amount     duration     speed  \n",
       "tpep_pickup_datetime                                      \n",
       "2017-01-01 00:00:00     15.736486   976.445946  0.004297  \n",
       "2017-01-01 01:00:00     17.598765  1095.666667  0.004307  \n",
       "2017-01-01 02:00:00     16.588957  1006.503067  0.019612  \n",
       "2017-01-01 03:00:00     15.821429   843.539683  0.005046  \n",
       "2017-01-01 04:00:00     18.913043   933.231884  0.007549  "
      ]
     },
     "execution_count": 30,
     "metadata": {},
     "output_type": "execute_result"
    }
   ],
   "source": [
    "y2017_as_pd_resampled.head()"
   ]
  }
 ],
 "metadata": {
  "kernelspec": {
   "display_name": "Python 3",
   "language": "python",
   "name": "python3"
  },
  "language_info": {
   "codemirror_mode": {
    "name": "ipython",
    "version": 3
   },
   "file_extension": ".py",
   "mimetype": "text/x-python",
   "name": "python",
   "nbconvert_exporter": "python",
   "pygments_lexer": "ipython3",
   "version": "3.7.1"
  }
 },
 "nbformat": 4,
 "nbformat_minor": 2
}
